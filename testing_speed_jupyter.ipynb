{
 "cells": [
  {
   "cell_type": "code",
   "execution_count": 11,
   "metadata": {},
   "outputs": [
    {
     "name": "stdout",
     "output_type": "stream",
     "text": [
      "{'download': 337830425.6841126, 'upload': 31817219.826520734, 'ping': 29.756, 'server': {'url': 'http://sp1.hderlink.net:8080/speedtest/upload.php', 'lat': '40.9526', 'lon': '-83.3824', 'name': 'Carey, OH', 'country': 'United States', 'cc': 'US', 'sponsor': 'HDER LINK', 'id': '38033', 'host': 'sp1.hderlink.net:8080', 'd': 163.14081529216267, 'latency': 29.756}, 'timestamp': '2024-04-14T18:22:37.224415Z', 'bytes_sent': 78118912, 'bytes_received': 409373932, 'share': None, 'client': {'ip': '71.72.81.253', 'lat': '39.9275', 'lon': '-82.0032', 'isp': 'Spectrum', 'isprating': '3.7', 'rating': '0', 'ispdlavg': '0', 'ispulavg': '0', 'loggedin': '0', 'country': 'US'}}\n"
     ]
    }
   ],
   "source": [
    "import subprocess\n",
    "import json\n",
    "result = subprocess.run(['speedtest-cli', '--json'], stdout=subprocess.PIPE)\n",
    "output = result.stdout.decode('utf-8')\n",
    "data = json.loads(output)\n",
    "print(data)"
   ]
  },
  {
   "cell_type": "code",
   "execution_count": 10,
   "metadata": {},
   "outputs": [
    {
     "name": "stdout",
     "output_type": "stream",
     "text": [
      "False\n"
     ]
    }
   ],
   "source": [
    "import platform\n",
    "def check_no_network():\n",
    "    \"\"\"Returns True if network checks fails, False otherwise\"\"\"\n",
    "\n",
    "    if platform.system() == \"Windows\":\n",
    "        cmd = \"ping -n 1 8.8.8.8 > NUL 2>&1\"\n",
    "        result = subprocess.call(cmd, shell=True)\n",
    "    else:\n",
    "        cmd = \"ping -c 1 8.8.8.8 > /dev/null 2>&1\"\n",
    "        result = subprocess.call(cmd, shell=True)\n",
    "\n",
    "    return result != 0\n",
    "\n",
    "print(check_no_network())"
   ]
  },
  {
   "cell_type": "code",
   "execution_count": null,
   "metadata": {},
   "outputs": [],
   "source": [
    "import speedtest as st\n",
    "import subprocess\n",
    "import platform\n",
    "\n",
    "\n",
    "def check_no_network():\n",
    "    \"\"\"Returns True if network checks faile, False otherwise\"\"\"\n",
    "\n",
    "    if platform.system() == \"Windows\":\n",
    "        cmd = \"ping -n 1 8.8.8.8 > NUL 2>&1\"\n",
    "        result = subprocess.call(cmd, shell=True)\n",
    "    else:\n",
    "        cmd = \"ping -c 1 8.8.8.8 > /dev/null 2>&1\"\n",
    "        result = subprocess.call(cmd, shell=True)\n",
    "\n",
    "    output = result.stdout.decode(\"utf-8\")\n",
    "    print(output)\n",
    "    return not output\n",
    "\n",
    "\n",
    "def check_speed():\n",
    "    if not check_no_network():\n",
    "        test = st.Speedtest()\n",
    "        test.download()\n",
    "        test.upload()\n",
    "        results_dict = test.results.dict()\n",
    "        print(\"Download Speed:\", round(results_dict[\"download\"] / 1000000), \"Mbps\")\n",
    "        print(\"Download Speed:\", round(results_dict[\"upload\"] / 1000000), \"Mbps\")\n",
    "        print(\"Ping:\", results_dict[\"ping\"], \"ms\")\n",
    "\n",
    "\n",
    "check_speed()\n"
   ]
  }
 ],
 "metadata": {
  "kernelspec": {
   "display_name": "base",
   "language": "python",
   "name": "python3"
  },
  "language_info": {
   "codemirror_mode": {
    "name": "ipython",
    "version": 3
   },
   "file_extension": ".py",
   "mimetype": "text/x-python",
   "name": "python",
   "nbconvert_exporter": "python",
   "pygments_lexer": "ipython3",
   "version": "3.11.7"
  }
 },
 "nbformat": 4,
 "nbformat_minor": 2
}

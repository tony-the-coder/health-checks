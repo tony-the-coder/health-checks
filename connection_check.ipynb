{
 "cells": [
  {
   "cell_type": "code",
   "execution_count": 3,
   "metadata": {},
   "outputs": [
    {
     "name": "stdout",
     "output_type": "stream",
     "text": [
      "You are not within a virtual environment.\n"
     ]
    }
   ],
   "source": [
    "import os\n",
    "\n",
    "if \"VIRTUAL_ENV\" in os.environ:\n",
    "    print(\"You are within a virtual environment.\")\n",
    "else:\n",
    "    print(\"You are not within a virtual environment.\")\n"
   ]
  }
 ],
 "metadata": {
  "kernelspec": {
   "display_name": "Python 3",
   "language": "python",
   "name": "python3"
  },
  "language_info": {
   "codemirror_mode": {
    "name": "ipython",
    "version": 3
   },
   "file_extension": ".py",
   "mimetype": "text/x-python",
   "name": "python",
   "nbconvert_exporter": "python",
   "pygments_lexer": "ipython3",
   "version": "3.11.7"
  }
 },
 "nbformat": 4,
 "nbformat_minor": 2
}
